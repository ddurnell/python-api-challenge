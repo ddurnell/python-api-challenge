{
 "cells": [
  {
   "cell_type": "markdown",
   "metadata": {},
   "source": [
    "# WeatherPy\n",
    "----\n",
    "\n",
    "#### Note\n",
    "* Instructions have been included for each segment. You do not have to follow them exactly, but they are included to help you think through the steps."
   ]
  },
  {
   "cell_type": "code",
   "execution_count": 1,
   "metadata": {
    "scrolled": true
   },
   "outputs": [
    {
     "name": "stdout",
     "output_type": "stream",
     "text": [
      "*** Getting new data ***\n",
      "(1/22/2020)\n"
     ]
    }
   ],
   "source": [
    "# Dependencies and Setup\n",
    "import matplotlib.pyplot as plt\n",
    "import pandas as pd\n",
    "import numpy as np\n",
    "import requests\n",
    "import time\n",
    "import json\n",
    "import pprint\n",
    "from scipy.stats import linregress\n",
    "import datetime as dt\n",
    "import scipy.stats as st\n",
    "import os\n",
    "\n",
    "# Import API key\n",
    "from api_keys import weather_api_key\n",
    "\n",
    "# Incorporated citipy to determine city based on latitude and longitude\n",
    "from citipy import citipy\n",
    "\n",
    "# Output File (CSV)\n",
    "output_data_file = \"output_data/cities.csv\"\n",
    "output_log_file = \"output_data/cities.log\"\n",
    "\n",
    "# only call openweather if we want to - delete to file to enable\n",
    "if os.path.exists(output_data_file):\n",
    "    skip_weather = True\n",
    "    print(\"*** Using existing data ***\")\n",
    "else:\n",
    "    skip_weather = False\n",
    "    print(\"*** Getting new data ***\")\n",
    "\n",
    "# Range of latitudes and longitudes\n",
    "lat_range = (-90, 90)\n",
    "lng_range = (-180, 180)\n",
    "\n",
    "# Current date\n",
    "d = dt.date.today()\n",
    "analysis_date = (f\"({d.month}/{d.day}/{d.year})\")\n",
    "print(analysis_date)\n",
    "\n",
    "max_limit = 1000\n",
    "required_length = 500"
   ]
  },
  {
   "cell_type": "markdown",
   "metadata": {},
   "source": [
    "## Generate Cities List"
   ]
  },
  {
   "cell_type": "code",
   "execution_count": 2,
   "metadata": {},
   "outputs": [
    {
     "name": "stdout",
     "output_type": "stream",
     "text": [
      "459\n"
     ]
    },
    {
     "ename": "Exception",
     "evalue": "not enough cities: 459: need: 500",
     "output_type": "error",
     "traceback": [
      "\u001b[1;31m---------------------------------------------------------------------------\u001b[0m",
      "\u001b[1;31mException\u001b[0m                                 Traceback (most recent call last)",
      "\u001b[1;32m<ipython-input-2-ed95618b6529>\u001b[0m in \u001b[0;36m<module>\u001b[1;34m\u001b[0m\n\u001b[0;32m     26\u001b[0m \u001b[1;33m\u001b[0m\u001b[0m\n\u001b[0;32m     27\u001b[0m \u001b[1;32mif\u001b[0m \u001b[0mlength\u001b[0m \u001b[1;33m<\u001b[0m \u001b[0mrequired_length\u001b[0m\u001b[1;33m:\u001b[0m\u001b[1;33m\u001b[0m\u001b[1;33m\u001b[0m\u001b[0m\n\u001b[1;32m---> 28\u001b[1;33m     \u001b[1;32mraise\u001b[0m \u001b[0mException\u001b[0m\u001b[1;33m(\u001b[0m\u001b[1;34mf\"not enough cities: {length}: need: {required_length}\"\u001b[0m\u001b[1;33m)\u001b[0m\u001b[1;33m\u001b[0m\u001b[1;33m\u001b[0m\u001b[0m\n\u001b[0m",
      "\u001b[1;31mException\u001b[0m: not enough cities: 459: need: 500"
     ]
    }
   ],
   "source": [
    "# List for holding lat_lngs and cities\n",
    "lat_lngs = []\n",
    "cities = []\n",
    "\n",
    "\n",
    "# Create a set of random lat and lng combinations\n",
    "lats = np.random.uniform(low=-90.000, high=90.000, size=1500)\n",
    "lngs = np.random.uniform(low=-180.000, high=180.000, size=1500)\n",
    "lat_lngs = zip(lats, lngs)\n",
    "\n",
    "# Identify nearest city for each lat, lng combination\n",
    "i = 0\n",
    "for lat_lng in lat_lngs:\n",
    "    city = citipy.nearest_city(lat_lng[0], lat_lng[1]).city_name\n",
    "    i+=1\n",
    "    if i > max_limit:\n",
    "        break\n",
    "\n",
    "    # If the city is unique, then add it to a our cities list\n",
    "    if city not in cities:\n",
    "        cities.append(city)\n",
    "\n",
    "# Print the city count to confirm sufficient count\n",
    "length = len(cities)\n",
    "print(length)\n",
    "\n",
    "if length < required_length:\n",
    "    raise Exception(f\"not enough cities: {length}: need: {required_length}\")"
   ]
  },
  {
   "cell_type": "markdown",
   "metadata": {},
   "source": [
    "### Perform API Calls\n",
    "* Perform a weather check on each city using a series of successive API calls.\n",
    "* Include a print log of each city as it'sbeing processed (with the city number and city name).\n"
   ]
  },
  {
   "cell_type": "code",
   "execution_count": null,
   "metadata": {},
   "outputs": [],
   "source": [
    "# TODO: make a def\n",
    "# city_name = short_cities[0]\n",
    "# url = f\"https://api.openweathermap.org/data/2.5/weather?q={city_name}&appid={weather_api_key}\"\n",
    "# print(url)\n",
    "\n",
    "# redefine params\n",
    "# params = {\n",
    "#     \"q\": city_name,\n",
    "#     \"appid\": weather_api_key\n",
    "# }\n",
    "\n",
    "# Build URL using the Google Maps API\n",
    "base_url = \"https://api.openweathermap.org/data/2.5/weather\"\n",
    "#print(cities)\n",
    "# Run request\n",
    "# response = requests.get(base_url, params).json()\n",
    "\n",
    "'''We only need these\n",
    "City\tCloudiness\tCountry\tDate\tHumidity\tLat\tLng\tMax Temp\tWind Speed'''\n",
    "\n",
    "if skip_weather == True:\n",
    "    df = pd.read_csv(output_data_file)\n",
    "else:\n",
    "    i = 1\n",
    "    df = pd.DataFrame()\n",
    "    ind = []\n",
    "\n",
    "    log = open(output_log_file, \"w\")\n",
    "    try:\n",
    "        for city_name in cities:\n",
    "            try:\n",
    "                url = f\"https://api.openweathermap.org/data/2.5/weather?q={city_name}&appid={weather_api_key}\"\n",
    "                response = requests.get(url).json()\n",
    "                log.write(\"\")\n",
    "                #print(\"==============================\")\n",
    "                print(f\"Processing City city {i} with name: {city_name}\")\n",
    "                log.write(\"==============================\")\n",
    "                log.write(f\"Processing City city {i} with name: {city_name}\")\n",
    "                # json.dumps(response, indent=4, sort_keys=True)\n",
    "                pprint.pprint(response, log)\n",
    "                log.write(\"\")\n",
    "\n",
    "                # extract the data\n",
    "                ind.append(i-1) # the index for the DataFrame in case we want to change it later\n",
    "                cloudiness = response['clouds']['all']\n",
    "                country = response['sys']['country']\n",
    "                date = response['dt']\n",
    "                humidity = response['main']['humidity']\n",
    "                lat = response['coord']['lat']\n",
    "                lng = response['coord']['lon']\n",
    "                kmax_temp = response['main']['temp_max']\n",
    "                max_temp = ((kmax_temp * (9/5)) - 459.67)\n",
    "                kwind_speed = response['wind']['speed']\n",
    "                wind_speed = kwind_speed * 1.6\n",
    "\n",
    "                data = [city_name, cloudiness, country, date, humidity, lat, lng, max_temp, wind_speed]\n",
    "                print(data)\n",
    "                s = pd.Series(data)\n",
    "                df = df.append(s, ignore_index=True)\n",
    "\n",
    "                i+=1\n",
    "            except(KeyError):\n",
    "                print(f\"Error on city {city_name}, skipping\")\n",
    "    finally:\n",
    "        log.close()\n",
    "    df.columns = ['City', 'Cloudiness', 'Country', 'Date', 'Humidity', 'Lat', 'Lng', 'Max Temp', 'Wind Speed']\n",
    "    df['Date'] = df['Date'].apply(np.int64)\n",
    "\n",
    "#print(df.dtypes)\n",
    "df.head()\n"
   ]
  },
  {
   "cell_type": "markdown",
   "metadata": {},
   "source": [
    "### Convert Raw Data to DataFrame\n",
    "* Export the city data into a .csv.\n",
    "* Display the DataFrame"
   ]
  },
  {
   "cell_type": "code",
   "execution_count": null,
   "metadata": {
    "scrolled": false
   },
   "outputs": [],
   "source": [
    "df.to_csv(output_data_file)"
   ]
  },
  {
   "cell_type": "code",
   "execution_count": null,
   "metadata": {},
   "outputs": [],
   "source": [
    "print(len(df))\n",
    "df"
   ]
  },
  {
   "cell_type": "markdown",
   "metadata": {},
   "source": [
    "### Plotting the Data\n",
    "* Use proper labeling of the plots using plot titles (including date of analysis) and axes labels.\n",
    "* Save the plotted figures as .pngs."
   ]
  },
  {
   "cell_type": "code",
   "execution_count": null,
   "metadata": {},
   "outputs": [],
   "source": [
    "# function to do each plot with different variables\n",
    "def plot(pdf, x, y, title, xlabel, ylabel, regress = False, hem = \"\"):\n",
    "\n",
    "    # Generate a scatter plot of mouse weight versus average tumor volume for the Capomulin regimen\n",
    "    # Annotate in the regression\n",
    "    x_axis = pdf[x]\n",
    "    y_axis = pdf[y]\n",
    "\n",
    "    df.head(600)\n",
    "#     plt.scatter(x_axis, y_axis, marker=\"o\", facecolors=\"red\", edgecolors=\"black\",\n",
    "#                 s=x_axis, alpha=0.75)\n",
    "\n",
    "    plt.scatter(x_axis, y_axis, marker=\"o\", facecolors=\"red\", edgecolors=\"black\", alpha=0.75)\n",
    "\n",
    "    if regress:\n",
    "        # Calculate the correlation coefficient and linear regression model for mouse weight and \n",
    "        # average tumor volume for the Capomulin regimen\n",
    "        correlation = st.pearsonr(x_axis, y_axis)\n",
    "        print(f\"The correlation between both factors is {round(correlation[0],2)}\")\n",
    "        # get and add the regression\n",
    "        (slope, intercept, rvalue, pvalue, stderr) = linregress(x_axis, y_axis)\n",
    "        regress_values = x_axis * slope + intercept\n",
    "        line_eq = \"y = \" + str(round(slope,2)) + \"x + \" + str(round(intercept,2))\n",
    "        plt.plot(x_axis,regress_values,\"r-\")\n",
    "        x_mean = x_axis.mean()\n",
    "        y_mean = y_axis.mean()\n",
    "        plt.annotate(line_eq,(x_mean,y_mean),fontsize=15,color=\"black\")\n",
    "\n",
    "    plt.title(f\"{title} {analysis_date}\")\n",
    "    plt.xlabel(f\"{xlabel}\")\n",
    "    plt.ylabel(f\"{ylabel}\")\n",
    "    if regress:\n",
    "        l = \"_r\"\n",
    "    else:\n",
    "        l = \"\"\n",
    "    \n",
    "    xs = x.strip()\n",
    "    ys = y.strip()\n",
    "    plt.savefig(f\"output_data/fig_{xs}_{ys}{l}{hem}.png\")\n"
   ]
  },
  {
   "cell_type": "markdown",
   "metadata": {},
   "source": [
    "#### Latitude vs. Temperature Plot"
   ]
  },
  {
   "cell_type": "code",
   "execution_count": null,
   "metadata": {
    "scrolled": true
   },
   "outputs": [],
   "source": [
    "plot(df, 'Lat', 'Max Temp', \"City Latitude vs. Max Temperature\", 'Latitude', 'Max Temperature (F)')"
   ]
  },
  {
   "cell_type": "markdown",
   "metadata": {},
   "source": [
    "This is giving evidence that the southern hemisphere is warmer at this time of year. Of course the temperature peaks at the equator."
   ]
  },
  {
   "cell_type": "markdown",
   "metadata": {},
   "source": [
    "#### Latitude vs. Humidity Plot"
   ]
  },
  {
   "cell_type": "code",
   "execution_count": null,
   "metadata": {},
   "outputs": [],
   "source": [
    "plot(df, 'Lat', 'Humidity', 'City Latitude vs. Humidity', 'Latitude', 'Humidity %')"
   ]
  },
  {
   "cell_type": "markdown",
   "metadata": {},
   "source": [
    "This demonstrates that it is more humid in the northern hemisphere at this time of year."
   ]
  },
  {
   "cell_type": "markdown",
   "metadata": {},
   "source": [
    "#### Latitude vs. Cloudiness Plot"
   ]
  },
  {
   "cell_type": "code",
   "execution_count": null,
   "metadata": {},
   "outputs": [],
   "source": [
    "plot(df, 'Lat', 'Cloudiness', 'Cloudiness', 'Latitude', 'Cloudiness %')"
   ]
  },
  {
   "cell_type": "markdown",
   "metadata": {},
   "source": [
    "This is looking to show a correlation between cloudiness and latitude, but it doesn't appear to."
   ]
  },
  {
   "cell_type": "markdown",
   "metadata": {},
   "source": [
    "#### Latitude vs. Wind Speed Plot"
   ]
  },
  {
   "cell_type": "code",
   "execution_count": null,
   "metadata": {},
   "outputs": [],
   "source": [
    "plot(df, 'Lat', 'Wind Speed', 'City Latitude vs. Wind Speed', 'Latitude', 'Wind Speed (mph)')"
   ]
  },
  {
   "cell_type": "markdown",
   "metadata": {},
   "source": [
    "There could be an indication that there is more wind in the northern hemisphere."
   ]
  },
  {
   "cell_type": "markdown",
   "metadata": {},
   "source": [
    "## Linear Regression"
   ]
  },
  {
   "cell_type": "code",
   "execution_count": null,
   "metadata": {},
   "outputs": [],
   "source": [
    "# Create Northern and Southern Hemisphere DataFrames\n",
    "ndf = df[df['Lat'] >= 0]\n",
    "sdf = df[df['Lat'] < 0]"
   ]
  },
  {
   "cell_type": "markdown",
   "metadata": {},
   "source": [
    "####  Northern Hemisphere - Max Temp vs. Latitude Linear Regression"
   ]
  },
  {
   "cell_type": "code",
   "execution_count": null,
   "metadata": {},
   "outputs": [],
   "source": [
    "plot(ndf, 'Lat', 'Max Temp', \"North: City Latitude vs. Max Temperature\", 'Latitude', 'Max Temperature (F)', regress = True, hem = \"_n\")"
   ]
  },
  {
   "cell_type": "markdown",
   "metadata": {},
   "source": [
    "The correlation quantifies the negative correlation between temp and latitude. The farther north you go, the colder it is."
   ]
  },
  {
   "cell_type": "markdown",
   "metadata": {},
   "source": [
    "####  Southern Hemisphere - Max Temp vs. Latitude Linear Regression"
   ]
  },
  {
   "cell_type": "code",
   "execution_count": null,
   "metadata": {},
   "outputs": [],
   "source": [
    "plot(sdf, 'Lat', 'Max Temp', \"South: City Latitude vs. Max Temperature\", 'Latitude', 'Max Temperature (F)', regress = True, hem = \"_s\")"
   ]
  },
  {
   "cell_type": "markdown",
   "metadata": {},
   "source": [
    "In the south, the farther north you go, the warmer it gets."
   ]
  },
  {
   "cell_type": "markdown",
   "metadata": {},
   "source": [
    "####  Northern Hemisphere - Humidity (%) vs. Latitude Linear Regression"
   ]
  },
  {
   "cell_type": "code",
   "execution_count": null,
   "metadata": {},
   "outputs": [],
   "source": [
    "plot(ndf, 'Lat', 'Humidity', 'North: City Latitude vs. Humidity', 'Latitude', 'Humidity %', regress = True, hem = \"_n\")"
   ]
  },
  {
   "cell_type": "markdown",
   "metadata": {},
   "source": [
    "There a slight positive correlation between humidity and latitude in the north. The farther north you go, it is slightly more humid."
   ]
  },
  {
   "cell_type": "markdown",
   "metadata": {},
   "source": [
    "####  Southern Hemisphere - Humidity (%) vs. Latitude Linear Regression"
   ]
  },
  {
   "cell_type": "code",
   "execution_count": null,
   "metadata": {},
   "outputs": [],
   "source": [
    "plot(sdf, 'Lat', 'Humidity', 'South: City Latitude vs. Humidity', 'Latitude', 'Humidity %', regress = True, hem = \"_s\")"
   ]
  },
  {
   "cell_type": "markdown",
   "metadata": {},
   "source": [
    "There a slight positive correlation between humidity and latitude in the north. The farther north you go, it is slightly more humid."
   ]
  },
  {
   "cell_type": "markdown",
   "metadata": {},
   "source": [
    "####  Northern Hemisphere - Cloudiness (%) vs. Latitude Linear Regression"
   ]
  },
  {
   "cell_type": "code",
   "execution_count": null,
   "metadata": {},
   "outputs": [],
   "source": [
    "plot(ndf, 'Lat', 'Cloudiness', 'North: Cloudiness', 'Latitude', 'Cloudiness %', regress = True, hem = \"_n\")"
   ]
  },
  {
   "cell_type": "markdown",
   "metadata": {},
   "source": [
    "There a slight positive correlation between cloudiness and latitude in the north. I don't see it."
   ]
  },
  {
   "cell_type": "markdown",
   "metadata": {},
   "source": [
    "####  Southern Hemisphere - Cloudiness (%) vs. Latitude Linear Regression"
   ]
  },
  {
   "cell_type": "code",
   "execution_count": null,
   "metadata": {},
   "outputs": [],
   "source": [
    "plot(sdf, 'Lat', 'Cloudiness', 'South: Cloudiness', 'Latitude', 'Cloudiness %', regress = True, hem = \"_s\")"
   ]
  },
  {
   "cell_type": "markdown",
   "metadata": {},
   "source": [
    "In the south, there is no measurable correlation between cloudiness and latitude."
   ]
  },
  {
   "cell_type": "markdown",
   "metadata": {},
   "source": [
    "####  Northern Hemisphere - Wind Speed (mph) vs. Latitude Linear Regression"
   ]
  },
  {
   "cell_type": "code",
   "execution_count": null,
   "metadata": {},
   "outputs": [],
   "source": [
    "plot(ndf, 'Lat', 'Wind Speed', 'North: City Latitude vs. Wind Speed', 'Latitude', 'Wind Speed (mph)', regress = True, hem = \"_n\")"
   ]
  },
  {
   "cell_type": "markdown",
   "metadata": {},
   "source": [
    "There are some interesting outliers in the north as far as wind speed. This gives a slight correlation."
   ]
  },
  {
   "cell_type": "markdown",
   "metadata": {},
   "source": [
    "####  Southern Hemisphere - Wind Speed (mph) vs. Latitude Linear Regression"
   ]
  },
  {
   "cell_type": "code",
   "execution_count": null,
   "metadata": {},
   "outputs": [],
   "source": [
    "plot(sdf, 'Lat', 'Wind Speed', 'South: City Latitude vs. Wind Speed', 'Latitude', 'Wind Speed (mph)', regress = True, hem = \"_s\")"
   ]
  },
  {
   "cell_type": "markdown",
   "metadata": {},
   "source": [
    "There are some interesting outliers in the south as far as wind speed. This gives a slight negative correlation, between wind speed and latitude."
   ]
  },
  {
   "cell_type": "code",
   "execution_count": null,
   "metadata": {},
   "outputs": [],
   "source": []
  }
 ],
 "metadata": {
  "anaconda-cloud": {},
  "kernel_info": {
   "name": "python3"
  },
  "kernelspec": {
   "display_name": "Python 3",
   "language": "python",
   "name": "python3"
  },
  "language_info": {
   "codemirror_mode": {
    "name": "ipython",
    "version": 3
   },
   "file_extension": ".py",
   "mimetype": "text/x-python",
   "name": "python",
   "nbconvert_exporter": "python",
   "pygments_lexer": "ipython3",
   "version": "3.6.9"
  },
  "latex_envs": {
   "LaTeX_envs_menu_present": true,
   "autoclose": false,
   "autocomplete": true,
   "bibliofile": "biblio.bib",
   "cite_by": "apalike",
   "current_citInitial": 1,
   "eqLabelWithNumbers": true,
   "eqNumInitial": 1,
   "hotkeys": {
    "equation": "Ctrl-E",
    "itemize": "Ctrl-I"
   },
   "labels_anchors": false,
   "latex_user_defs": false,
   "report_style_numbering": false,
   "user_envs_cfg": false
  },
  "nteract": {
   "version": "0.12.3"
  }
 },
 "nbformat": 4,
 "nbformat_minor": 2
}
